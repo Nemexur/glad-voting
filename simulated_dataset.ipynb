{
 "cells": [
  {
   "cell_type": "code",
   "execution_count": 1,
   "id": "249bf7b0-9f16-463d-9ed1-0ccd47fe1feb",
   "metadata": {},
   "outputs": [],
   "source": [
    "from typing import NamedTuple\n",
    "import jax\n",
    "import numpy as np\n",
    "import jax.numpy as jnp\n",
    "import seaborn as sns\n",
    "import matplotlib.pyplot as plt\n",
    "from glad.model import GLAD, MaxVoting\n",
    "import tensorflow_probability.substrates.jax.distributions as tfd"
   ]
  },
  {
   "cell_type": "code",
   "execution_count": 2,
   "id": "f4c1ed6c-76e2-4e77-9f5c-49bf7d4f0226",
   "metadata": {},
   "outputs": [
    {
     "name": "stderr",
     "output_type": "stream",
     "text": [
      "WARNING:absl:No GPU/TPU found, falling back to CPU. (Set TF_CPP_MIN_LOG_LEVEL=0 and rerun for more info.)\n"
     ]
    }
   ],
   "source": [
    "seed = jax.random.PRNGKey(13)\n",
    "true_z = tfd.Bernoulli(probs=0.5).sample(2000, seed=seed)\n",
    "true_alpha = tfd.Normal(loc=1.0, scale=1.0).sample(20, seed=seed)\n",
    "true_log_beta = tfd.Normal(loc=1.0, scale=1.0).sample(2000, seed=seed)\n",
    "alpha_beta = jnp.einsum(\"a,b->ab\", true_alpha, jnp.exp(true_log_beta))\n",
    "dataset = tfd.Bernoulli(logits=alpha_beta).sample(seed=seed)\n",
    "labelers_dataset = jnp.where(dataset == 1, true_z.astype(bool), ~true_z.astype(bool)).T.astype(int)"
   ]
  },
  {
   "cell_type": "code",
   "execution_count": 3,
   "id": "16327f04-baa6-4722-ae4b-00ee52ee8e93",
   "metadata": {},
   "outputs": [
    {
     "data": {
      "text/plain": [
       "DeviceArray(0.959, dtype=float32)"
      ]
     },
     "execution_count": 3,
     "metadata": {},
     "output_type": "execute_result"
    }
   ],
   "source": [
    "max_model = MaxVoting()\n",
    "max_model.fit(labelers_dataset)\n",
    "(max_model.result() == true_z).mean()"
   ]
  },
  {
   "cell_type": "code",
   "execution_count": 4,
   "id": "060506cc-1ba0-4d93-bf6e-973dadaa6ad6",
   "metadata": {},
   "outputs": [
    {
     "name": "stderr",
     "output_type": "stream",
     "text": [
      "2021-06-11 16:06:44.793 | INFO     | glad.model:fit:131 - Final Log-Likelihood: 11193.3535\n"
     ]
    }
   ],
   "source": [
    "model = GLAD(num_tasks=labelers_dataset.shape[0], num_labelers=labelers_dataset.shape[1])\n",
    "model.fit(labelers_dataset)"
   ]
  },
  {
   "cell_type": "code",
   "execution_count": 5,
   "id": "b30c9d29-d181-4cd0-8877-0331bebea158",
   "metadata": {},
   "outputs": [
    {
     "data": {
      "text/plain": [
       "DeviceArray(0.9885, dtype=float32)"
      ]
     },
     "execution_count": 5,
     "metadata": {},
     "output_type": "execute_result"
    }
   ],
   "source": [
    "result = model.result()\n",
    "(true_z == result).mean()"
   ]
  },
  {
   "cell_type": "code",
   "execution_count": 7,
   "id": "fad73dc4-1a7a-41c5-a6bf-d9d2b59b1189",
   "metadata": {},
   "outputs": [
    {
     "data": {
      "text/plain": [
       "DeviceArray([[1.        , 0.99279493],\n",
       "             [0.992795  , 1.        ]], dtype=float32)"
      ]
     },
     "execution_count": 7,
     "metadata": {},
     "output_type": "execute_result"
    }
   ],
   "source": [
    "jnp.corrcoef(model.alpha, true_alpha)"
   ]
  },
  {
   "cell_type": "code",
   "execution_count": 8,
   "id": "6294e1d8-2a25-4d4a-b39a-3c2a1b580e3a",
   "metadata": {},
   "outputs": [
    {
     "data": {
      "text/plain": [
       "DeviceArray([[1.        , 0.8076474 ],\n",
       "             [0.80764747, 1.        ]], dtype=float32)"
      ]
     },
     "execution_count": 8,
     "metadata": {},
     "output_type": "execute_result"
    }
   ],
   "source": [
    "jnp.corrcoef(model.log_beta, true_log_beta)"
   ]
  },
  {
   "cell_type": "code",
   "execution_count": 13,
   "id": "24220de4-0587-4ea5-bed5-40b258ee686f",
   "metadata": {},
   "outputs": [],
   "source": [
    "class Information(NamedTuple):\n",
    "    glad: GLAD\n",
    "    dataset: jnp.ndarray\n",
    "    max_result: jnp.ndarray\n",
    "    glad_result: jnp.ndarray\n",
    "    corr_alpha: jnp.ndarray\n",
    "    corr_beta: jnp.ndarray"
   ]
  },
  {
   "cell_type": "code",
   "execution_count": 20,
   "id": "a261c323-091b-49e7-aedd-3012edd47707",
   "metadata": {},
   "outputs": [],
   "source": [
    "def compare_glad(num_operators: int, seed: int = 13):\n",
    "    seed = jax.random.PRNGKey(seed)\n",
    "    true_z = tfd.Bernoulli(probs=0.5).sample(2000, seed=seed)\n",
    "    true_alpha = tfd.Normal(loc=1.0, scale=1.0).sample(num_operators, seed=seed)\n",
    "    true_log_beta = tfd.Normal(loc=1.0, scale=1.0).sample(2000, seed=seed)\n",
    "    # Computation\n",
    "    alpha_beta = jnp.einsum(\"a,b->ab\", true_alpha, jnp.exp(true_log_beta))\n",
    "    dataset = tfd.Bernoulli(logits=alpha_beta).sample(seed=seed)\n",
    "    labelers_dataset = jnp.where(dataset == 1, true_z.astype(bool), ~true_z.astype(bool)).T.astype(int)\n",
    "    # Max voting\n",
    "    max_voting = MaxVoting()\n",
    "    max_voting.fit(labelers_dataset)\n",
    "    max_result = (true_z == max_voting.result()).mean()\n",
    "    # GLAD\n",
    "    model = GLAD()\n",
    "    model.fit(labelers_dataset)\n",
    "    glad_result = (true_z == model.result()).mean()\n",
    "    corr_alpha = jnp.corrcoef(model.alpha, true_alpha)[0, -1]\n",
    "    corr_beta = jnp.corrcoef(model.log_beta, true_log_beta)[0, -1]\n",
    "    return Information(\n",
    "        glad=model,\n",
    "        dataset=labelers_dataset,\n",
    "        max_result=max_result,\n",
    "        glad_result=glad_result,\n",
    "        corr_alpha=corr_alpha,\n",
    "        corr_beta=corr_beta,\n",
    "    )"
   ]
  },
  {
   "cell_type": "code",
   "execution_count": 21,
   "id": "93dbe4e2-950d-4552-b437-a8cc2c684a03",
   "metadata": {},
   "outputs": [
    {
     "data": {
      "text/plain": [
       "[4, 6, 8, 10, 12, 14, 16, 18, 20]"
      ]
     },
     "execution_count": 21,
     "metadata": {},
     "output_type": "execute_result"
    }
   ],
   "source": [
    "list(range(4, 22, 2))"
   ]
  },
  {
   "cell_type": "code",
   "execution_count": 22,
   "id": "c874946f-d55f-48b3-994c-89421cae31ac",
   "metadata": {},
   "outputs": [
    {
     "name": "stderr",
     "output_type": "stream",
     "text": [
      "2021-05-28 21:00:58.387 | INFO     | glad.model:fit:115 - Final Log-Likelihood: 2112.4229\n",
      "2021-05-28 21:01:10.422 | INFO     | glad.model:fit:115 - Final Log-Likelihood: 2236.8076\n",
      "2021-05-28 21:01:23.269 | INFO     | glad.model:fit:115 - Final Log-Likelihood: 3577.0068\n",
      "2021-05-28 21:01:36.300 | INFO     | glad.model:fit:115 - Final Log-Likelihood: 3349.4734\n",
      "2021-05-28 21:01:48.563 | INFO     | glad.model:fit:115 - Final Log-Likelihood: 5465.2026\n",
      "2021-05-28 21:02:01.255 | INFO     | glad.model:fit:115 - Final Log-Likelihood: 7339.7412\n",
      "2021-05-28 21:02:13.358 | INFO     | glad.model:fit:115 - Final Log-Likelihood: 12707.4600\n",
      "2021-05-28 21:02:25.343 | INFO     | glad.model:fit:115 - Final Log-Likelihood: 9667.0410\n",
      "2021-05-28 21:02:35.218 | INFO     | glad.model:fit:115 - Final Log-Likelihood: 11302.7715\n"
     ]
    }
   ],
   "source": [
    "infos = []\n",
    "for num_operators in range(4, 22, 2):\n",
    "    infos.append(compare_glad(num_operators))"
   ]
  },
  {
   "cell_type": "code",
   "execution_count": 24,
   "id": "1e7a39ab-bac2-43e2-80ac-3cbfda307c3c",
   "metadata": {},
   "outputs": [
    {
     "data": {
      "text/plain": [
       "[(DeviceArray(0.821, dtype=float32), DeviceArray(0.56663877, dtype=float32)),\n",
       " (DeviceArray(0.9565, dtype=float32), DeviceArray(0.5058308, dtype=float32)),\n",
       " (DeviceArray(0.9485, dtype=float32), DeviceArray(0.6987369, dtype=float32)),\n",
       " (DeviceArray(0.961, dtype=float32), DeviceArray(0.7453797, dtype=float32)),\n",
       " (DeviceArray(0.97, dtype=float32), DeviceArray(0.7395641, dtype=float32)),\n",
       " (DeviceArray(0.951, dtype=float32), DeviceArray(0.81185114, dtype=float32)),\n",
       " (DeviceArray(0.945, dtype=float32), DeviceArray(0.7602661, dtype=float32)),\n",
       " (DeviceArray(0.964, dtype=float32), DeviceArray(0.7814377, dtype=float32)),\n",
       " (DeviceArray(0.959, dtype=float32), DeviceArray(0.7648077, dtype=float32))]"
      ]
     },
     "execution_count": 24,
     "metadata": {},
     "output_type": "execute_result"
    }
   ],
   "source": [
    "[(x.max_result, x.corr_beta) for x in infos]"
   ]
  },
  {
   "cell_type": "code",
   "execution_count": 27,
   "id": "e3d860b3-1e65-4e97-ae06-5babf6a3b8be",
   "metadata": {},
   "outputs": [],
   "source": [
    "ola = infos[0]\n",
    "ola\n",
    "infos[0] = Information(\n",
    "    glad=ola.glad,\n",
    "    dataset=ola.dataset,\n",
    "    max_result=ola.max_result,\n",
    "    glad_result=1 - ola.glad_result,\n",
    "    corr_alpha=-ola.corr_alpha,\n",
    "    corr_beta=ola.corr_beta\n",
    ")"
   ]
  },
  {
   "cell_type": "code",
   "execution_count": 28,
   "id": "f430c851-d66f-453c-9c5b-3c1d97d3191c",
   "metadata": {},
   "outputs": [
    {
     "data": {
      "image/png": "[encoded data removed]",
      "text/plain": [
       "<Figure size 432x288 with 1 Axes>"
      ]
     },
     "metadata": {
      "needs_background": "light"
     },
     "output_type": "display_data"
    }
   ],
   "source": [
    "sns.lineplot(x=list(range(4, 22, 2)), y=[x.glad_result.item() for x in infos])\n",
    "sns.lineplot(x=list(range(4, 22, 2)), y=[x.max_result.item() for x in infos])\n",
    "plt.show()"
   ]
  },
  {
   "cell_type": "code",
   "execution_count": 32,
   "id": "401315eb-719f-4131-a7b3-add0f11fdd3b",
   "metadata": {},
   "outputs": [
    {
     "data": {
      "image/png": "[encoded data removed]",
      "text/plain": [
       "<Figure size 432x288 with 1 Axes>"
      ]
     },
     "metadata": {
      "needs_background": "light"
     },
     "output_type": "display_data"
    }
   ],
   "source": [
    "sns.lineplot(x=list(range(4, 22, 2)), y=[x.corr_alpha.item() for x in infos])\n",
    "plt.show()"
   ]
  },
  {
   "cell_type": "code",
   "execution_count": 85,
   "id": "34f97eba-78c0-462e-a1a7-c7869c6b25aa",
   "metadata": {},
   "outputs": [],
   "source": [
    "# ola = infos2[0]\n",
    "# ola\n",
    "# # infos2[0] = Information(\n",
    "# #     glad=ola.glad,\n",
    "# #     dataset=ola.dataset,\n",
    "# #     max_result=ola.max_result,\n",
    "# #     glad_result=1 - ola.glad_result,\n",
    "# #     corr=-ola.corr,\n",
    "# # )\n",
    "# infos2[5] = Information(\n",
    "#     glad=infos2[5].glad,\n",
    "#     dataset=infos2[5].dataset,\n",
    "#     max_result=infos2[5].max_result,\n",
    "#     glad_result=1 - infos2[5].glad_result,\n",
    "#     corr=-infos2[5].corr,\n",
    "# )\n",
    "# infos2[-1] = Information(\n",
    "#     glad=infos2[-1].glad,\n",
    "#     dataset=infos2[-1].dataset,\n",
    "#     max_result=infos2[-1].max_result,\n",
    "#     glad_result=1 - infos2[-1].glad_result,\n",
    "#     corr=-infos2[-1].corr,\n",
    "# )"
   ]
  },
  {
   "cell_type": "code",
   "execution_count": 33,
   "id": "56390b4a-9ff2-4321-bd00-101df2626e56",
   "metadata": {},
   "outputs": [
    {
     "name": "stderr",
     "output_type": "stream",
     "text": [
      "2021-05-28 21:16:26.459 | INFO     | glad.model:fit:115 - Final Log-Likelihood: 1399.3140\n",
      "2021-05-28 21:16:36.975 | INFO     | glad.model:fit:115 - Final Log-Likelihood: 2747.0210\n",
      "2021-05-28 21:16:47.279 | INFO     | glad.model:fit:115 - Final Log-Likelihood: 3967.5173\n",
      "2021-05-28 21:16:57.866 | INFO     | glad.model:fit:115 - Final Log-Likelihood: 7703.5142\n",
      "2021-05-28 21:17:09.167 | INFO     | glad.model:fit:115 - Final Log-Likelihood: 9103.9785\n",
      "2021-05-28 21:17:20.164 | INFO     | glad.model:fit:115 - Final Log-Likelihood: 6845.8066\n",
      "2021-05-28 21:17:30.625 | INFO     | glad.model:fit:115 - Final Log-Likelihood: 10277.5811\n",
      "2021-05-28 21:17:40.622 | INFO     | glad.model:fit:115 - Final Log-Likelihood: 9135.3154\n",
      "2021-05-28 21:17:51.562 | INFO     | glad.model:fit:115 - Final Log-Likelihood: 11602.6357\n"
     ]
    }
   ],
   "source": [
    "infos2 = []\n",
    "for num_operators in range(4, 22, 2):\n",
    "    infos2.append(compare_glad(num_operators, seed=42))"
   ]
  },
  {
   "cell_type": "code",
   "execution_count": 86,
   "id": "333071c8-8d9a-4071-b1ea-6f776d7a1d1f",
   "metadata": {},
   "outputs": [
    {
     "data": {
      "image/png": "[encoded data removed]",
      "text/plain": [
       "<Figure size 432x288 with 1 Axes>"
      ]
     },
     "metadata": {
      "needs_background": "light"
     },
     "output_type": "display_data"
    }
   ],
   "source": [
    "sns.lineplot(x=list(range(4, 22, 2)), y=[x.glad_result.item() for x in infos2])\n",
    "sns.lineplot(x=list(range(4, 22, 2)), y=[x.max_result.item() for x in infos2])\n",
    "plt.show()"
   ]
  },
  {
   "cell_type": "code",
   "execution_count": 87,
   "id": "71f2d3ad-2477-4832-93c7-6777c771b001",
   "metadata": {},
   "outputs": [
    {
     "data": {
      "text/plain": [
       "<AxesSubplot:>"
      ]
     },
     "execution_count": 87,
     "metadata": {},
     "output_type": "execute_result"
    },
    {
     "data": {
      "image/png": "[encoded data removed]",
      "text/plain": [
       "<Figure size 432x288 with 1 Axes>"
      ]
     },
     "metadata": {
      "needs_background": "light"
     },
     "output_type": "display_data"
    }
   ],
   "source": [
    "sns.lineplot(x=list(range(4, 22, 2)), y=[x.corr.item() for x in infos2])"
   ]
  },
  {
   "cell_type": "code",
   "execution_count": null,
   "id": "750a48c9-4ec8-47ad-9c66-408e280f287e",
   "metadata": {},
   "outputs": [],
   "source": []
  }
 ],
 "metadata": {
  "kernelspec": {
   "display_name": "src-ven",
   "language": "python",
   "name": "src-ven"
  },
  "language_info": {
   "codemirror_mode": {
    "name": "ipython",
    "version": 3
   },
   "file_extension": ".py",
   "mimetype": "text/x-python",
   "name": "python",
   "nbconvert_exporter": "python",
   "pygments_lexer": "ipython3",
   "version": "3.7.5"
  }
 },
 "nbformat": 4,
 "nbformat_minor": 5
}
